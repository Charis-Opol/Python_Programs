{
 "cells": [
  {
   "cell_type": "code",
   "execution_count": 1,
   "id": "9f97db00",
   "metadata": {},
   "outputs": [
    {
     "data": {
      "image/png": "[encoded data removed]",
      "text/plain": [
       "<Figure size 800x800 with 1 Axes>"
      ]
     },
     "metadata": {},
     "output_type": "display_data"
    }
   ],
   "source": [
    "import numpy as np\n",
    "import matplotlib.pyplot as plt\n",
    "import random\n",
    "from collections import deque\n",
    "\n",
    "# Maze size\n",
    "SIZE = 20\n",
    "\n",
    "# Directions: Right, Down, Left, Up\n",
    "DIRS = [(0, 1), (1, 0), (0, -1), (-1, 0)]\n",
    "\n",
    "def generate_maze(size):\n",
    "    maze = np.ones((size, size))  # 1 = wall, 0 = path\n",
    "    stack = [(0, 0)]\n",
    "    maze[0][0] = 0\n",
    "    \n",
    "    while stack:\n",
    "        x, y = stack[-1]\n",
    "        neighbors = []\n",
    "        \n",
    "        for dx, dy in DIRS:\n",
    "            nx, ny = x + dx * 2, y + dy * 2\n",
    "            if 0 <= nx < size and 0 <= ny < size and maze[nx][ny] == 1:\n",
    "                neighbors.append((nx, ny))\n",
    "        \n",
    "        if neighbors:\n",
    "            nx, ny = random.choice(neighbors)\n",
    "            maze[x + (nx - x) // 2][y + (ny - y) // 2] = 0\n",
    "            maze[nx][ny] = 0\n",
    "            stack.append((nx, ny))\n",
    "        else:\n",
    "            stack.pop()\n",
    "    \n",
    "    return maze\n",
    "\n",
    "def solve_maze(maze):\n",
    "    size = maze.shape[0]\n",
    "    start = (0, 0)\n",
    "    end = (size - 1, size - 1)\n",
    "    queue = deque([([start], start)])  # (path, position)\n",
    "    visited = set()\n",
    "    \n",
    "    while queue:\n",
    "        path, (x, y) = queue.popleft()\n",
    "        if (x, y) == end:\n",
    "            return path\n",
    "        for dx, dy in DIRS:\n",
    "            nx, ny = x + dx, y + dy\n",
    "            if 0 <= nx < size and 0 <= ny < size and maze[nx][ny] == 0 and (nx, ny) not in visited:\n",
    "                visited.add((nx, ny))\n",
    "                queue.append((path + [(nx, ny)], (nx, ny)))\n",
    "    \n",
    "    return None\n",
    "\n",
    "def plot_maze(maze, solution=None):\n",
    "    plt.figure(figsize=(8, 8))\n",
    "    plt.imshow(maze, cmap=\"binary\")\n",
    "    \n",
    "    if solution:\n",
    "        x, y = zip(*solution)\n",
    "        plt.plot(y, x, color=\"red\", linewidth=2)\n",
    "    \n",
    "    plt.xticks([])  # Remove ticks\n",
    "    plt.yticks([])\n",
    "    plt.show()\n",
    "\n",
    "# Generate and solve the maze\n",
    "maze = generate_maze(SIZE)\n",
    "solution = solve_maze(maze)\n",
    "\n",
    "# Plot the maze and solution\n",
    "plot_maze(maze, solution)\n"
   ]
  }
 ],
 "metadata": {
  "kernelspec": {
   "display_name": "Python 3",
   "language": "python",
   "name": "python3"
  },
  "language_info": {
   "codemirror_mode": {
    "name": "ipython",
    "version": 3
   },
   "file_extension": ".py",
   "mimetype": "text/x-python",
   "name": "python",
   "nbconvert_exporter": "python",
   "pygments_lexer": "ipython3",
   "version": "3.13.7"
  }
 },
 "nbformat": 4,
 "nbformat_minor": 5
}
