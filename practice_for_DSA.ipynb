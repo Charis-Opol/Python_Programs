{
 "cells": [
  {
   "cell_type": "markdown",
   "metadata": {},
   "source": [
    "Linear search"
   ]
  },
  {
   "cell_type": "code",
   "execution_count": 1,
   "metadata": {},
   "outputs": [
    {
     "name": "stdout",
     "output_type": "stream",
     "text": [
      "[2, 6, 4, 7, 9, 10, 23]\n",
      "7 was found at index 3\n"
     ]
    }
   ],
   "source": [
    "def linear_search(array, key):\n",
    "    n = len(array)\n",
    "    for i in range(n):\n",
    "        if array[i] == key:\n",
    "            return i\n",
    "    return -1\n",
    "\n",
    "array = [2, 6, 4, 7, 9, 10, 23]\n",
    "print(array)\n",
    "num = int(input(\"Enter a number to search for: \"))\n",
    "answer = linear_search(array, num)\n",
    "if answer != -1:\n",
    "    print(f\"{num} was found at index {answer}\")\n",
    "else:\n",
    "    print(\"Not found!\")"
   ]
  },
  {
   "cell_type": "markdown",
   "metadata": {},
   "source": [
    "Binary search"
   ]
  },
  {
   "cell_type": "code",
   "execution_count": 1,
   "metadata": {},
   "outputs": [
    {
     "name": "stdout",
     "output_type": "stream",
     "text": [
      "[2, 4, 7, 8, 12, 15, 24]\n"
     ]
    },
    {
     "name": "stdout",
     "output_type": "stream",
     "text": [
      "7 was found at index 2\n"
     ]
    }
   ],
   "source": [
    "def binary_search(array, key):\n",
    "    right = len(array) - 1\n",
    "    left = 0\n",
    "\n",
    "    while left <= right:\n",
    "        mid = (left + right)//2\n",
    "        \n",
    "        if array[mid] == key:\n",
    "            return mid\n",
    "        elif array[mid] < key:\n",
    "            left = mid + 1\n",
    "        elif array[mid] > key:\n",
    "            right = mid - 1\n",
    "    return -1\n",
    "\n",
    "arraylist = [2, 4, 7, 8, 12, 15, 24]\n",
    "print(arraylist)\n",
    "input = int(input(\"Enter the value you want to search for: \"))\n",
    "answer = binary_search(arraylist, input)\n",
    "if answer != -1:\n",
    "    print(f\"{input} was found at index {answer}\")\n",
    "else:\n",
    "    print(\"Not found\")  \n",
    "    "
   ]
  },
  {
   "cell_type": "markdown",
   "metadata": {},
   "source": [
    "Insertion sort"
   ]
  },
  {
   "cell_type": "code",
   "execution_count": 5,
   "metadata": {},
   "outputs": [
    {
     "name": "stdout",
     "output_type": "stream",
     "text": [
      "Sorted array:  [1, 6, 9, 15, 24, 92]\n"
     ]
    }
   ],
   "source": [
    "def insertion_sort(array):\n",
    "    n = len(array)\n",
    "    for i in range (1, n):\n",
    "        current_index = i\n",
    "        current_value = array.pop(i)\n",
    "        for j in range(i - 1, -1, -1):\n",
    "            if array[j] > current_value:\n",
    "                current_index = j\n",
    "        array.insert(current_index, current_value)\n",
    "    return array\n",
    "\n",
    "array = [15, 6, 92, 9, 24, 1]\n",
    "sorted_array = insertion_sort(array) \n",
    "print(\"Sorted array: \", sorted_array)"
   ]
  },
  {
   "cell_type": "markdown",
   "metadata": {},
   "source": [
    "Bubble sort"
   ]
  },
  {
   "cell_type": "code",
   "execution_count": 7,
   "metadata": {},
   "outputs": [
    {
     "name": "stdout",
     "output_type": "stream",
     "text": [
      "Sorted array:  [1, 6, 9, 15, 24, 92]\n"
     ]
    }
   ],
   "source": [
    "def bubble_sort(array):\n",
    "    n = len(array)\n",
    "    for i in range (n - 1):\n",
    "        for j in range (n - i - 1):\n",
    "            if array[j] > array[j + 1]:\n",
    "                array[j], array[j + 1] = array[j + 1], array[j]\n",
    "    return array\n",
    "\n",
    "array = [15, 6, 92, 9, 24, 1]\n",
    "sorted_array = bubble_sort(array) \n",
    "print(\"Sorted array: \", sorted_array)"
   ]
  },
  {
   "cell_type": "markdown",
   "metadata": {},
   "source": [
    "Selection Sort"
   ]
  },
  {
   "cell_type": "code",
   "execution_count": 8,
   "metadata": {},
   "outputs": [
    {
     "name": "stdout",
     "output_type": "stream",
     "text": [
      "Sorted array:  [1, 6, 9, 15, 24, 92]\n"
     ]
    }
   ],
   "source": [
    "def selection_sort(array):\n",
    "    n = len(array)\n",
    "    for i in range (n - 1):\n",
    "        min_index = i\n",
    "        for j in range (i + 1, n):\n",
    "            if array[j] < array[min_index]:\n",
    "                min_index = j\n",
    "        min_value = array.pop(min_index)\n",
    "        array.insert(i, min_value)\n",
    "    return array\n",
    "\n",
    "array = [15, 6, 92, 9, 24, 1]\n",
    "sorted_array = selection_sort(array) \n",
    "print(\"Sorted array: \", sorted_array)\n"
   ]
  },
  {
   "cell_type": "markdown",
   "metadata": {},
   "source": [
    "Quick sort"
   ]
  },
  {
   "cell_type": "code",
   "execution_count": 10,
   "metadata": {},
   "outputs": [
    {
     "name": "stdout",
     "output_type": "stream",
     "text": [
      "Sorted array:  [1, 6, 9, 15, 24, 92]\n"
     ]
    }
   ],
   "source": [
    "def quick_sort(array):\n",
    "    if len(array) <= 1:\n",
    "        return array\n",
    "     \n",
    "    pivot = array[-1]\n",
    "    left = []\n",
    "    right = []\n",
    "\n",
    "    for i in range (len(array) - 1):\n",
    "        if array[i] <= pivot:\n",
    "            left.append(array[i])\n",
    "        elif array[i] > pivot:\n",
    "            right.append(array[i])\n",
    "    return quick_sort(left) + [pivot] + quick_sort(right)\n",
    "        \n",
    "array = [15, 6, 92, 9, 24, 1]\n",
    "sorted_array = quick_sort(array) \n",
    "print(\"Sorted array: \", sorted_array)"
   ]
  },
  {
   "cell_type": "markdown",
   "metadata": {},
   "source": [
    "Merge Sort"
   ]
  },
  {
   "cell_type": "code",
   "execution_count": 13,
   "metadata": {},
   "outputs": [
    {
     "name": "stdout",
     "output_type": "stream",
     "text": [
      "Sorted array:  [1, 6, 9, 15, 24, 92]\n"
     ]
    }
   ],
   "source": [
    "def merge_sort(array):\n",
    "    if len(array) <= 1:\n",
    "        return array\n",
    "    \n",
    "    mid = len(array) // 2\n",
    "    left = array[:mid]\n",
    "    right = array[mid:]\n",
    "\n",
    "    sorted_left = merge_sort(left)\n",
    "    sorted_right = merge_sort(right)\n",
    "\n",
    "    return merge(sorted_left, sorted_right)\n",
    "\n",
    "def merge(left, right):\n",
    "    i = 0\n",
    "    j = 0\n",
    "    merged_array = []\n",
    "\n",
    "    while i < len(left) and j < len(right):\n",
    "        if left[i] < right[j]:\n",
    "            merged_array.append(left[i])\n",
    "            i = i + 1\n",
    "        elif right[j] < left[i]:\n",
    "            merged_array.append(right[j])\n",
    "            j = j + 1\n",
    "        \n",
    "    merged_array.extend(left[i:])\n",
    "    merged_array.extend(right[j:])\n",
    "    return merged_array\n",
    "\n",
    "array = [15, 6, 92, 9, 24, 1]\n",
    "sorted_array = merge_sort(array) \n",
    "print(\"Sorted array: \", sorted_array)\n"
   ]
  },
  {
   "cell_type": "markdown",
   "metadata": {},
   "source": [
    "Linked Lists implemented with dictionaries"
   ]
  },
  {
   "cell_type": "code",
   "execution_count": 7,
   "metadata": {},
   "outputs": [
    {
     "name": "stdout",
     "output_type": "stream",
     "text": [
      "5 -> 3 -> 8 -> 10 -> 3 -> 6 -> None\n",
      "5 -> 3 -> 8 -> 10 -> 3 -> 6 -> 5 -> 24 -> None\n"
     ]
    }
   ],
   "source": [
    "linkedlists = {0:[5,1],1:[3,2],2:[8,3],3:[10,4],4:[3,5],5:[6,-1]}\n",
    "\n",
    "def display_linkedList(linkedlist):\n",
    "    index = 0\n",
    "    while index != -1:\n",
    "        element, next_index = linkedlist[index]\n",
    "        print(element, end= \" -> \")\n",
    "        index = next_index\n",
    "    print(\"None\")\n",
    "\n",
    "display_linkedList(linkedlists)\n",
    "\n",
    "linkedlists[5] = [6,6]\n",
    "linkedlists[6] = [5,7]\n",
    "linkedlists[7] = [24,-1]\n",
    "display_linkedList(linkedlists)"
   ]
  },
  {
   "cell_type": "code",
   "execution_count": 1,
   "metadata": {},
   "outputs": [
    {
     "name": "stdout",
     "output_type": "stream",
     "text": [
      "[0, 20, 30, 40, 50]\n",
      "[0, 20, 30, 40, 50, 60]\n",
      "[0, 20, 30, 40, 50, 60, 60]\n",
      "[20, 30, 40, 50, 60, 60]\n"
     ]
    }
   ],
   "source": [
    "array = [0, 20 ,30 ,40, 50]\n",
    "print(array)\n",
    "\n",
    "number = int(input(\"Enter a value you want to add: \"))\n",
    "array.append(number)\n",
    "print(array)\n",
    "array.insert(-1, number)\n",
    "print(array)\n",
    "number_remove = int(input(\"Enter a number you want to remove: \"))\n",
    "array.remove(number_remove)\n",
    "print(array)\n",
    "\n"
   ]
  },
  {
   "cell_type": "markdown",
   "metadata": {},
   "source": [
    "Queues"
   ]
  },
  {
   "cell_type": "code",
   "execution_count": 27,
   "metadata": {},
   "outputs": [
    {
     "name": "stdout",
     "output_type": "stream",
     "text": [
      "Queue [3, 6, 65, 12, 34, 43, 1, 4]\n",
      "This is the element that was dequeued:  3\n",
      "deque([6, 65, 12, 34, 43, 1, 4])\n",
      "This the dequeued element:  4\n"
     ]
    }
   ],
   "source": [
    "from collections import deque\n",
    "\n",
    "queue = deque()\n",
    "\n",
    "queue.append(3)\n",
    "queue.append(6)\n",
    "queue.append(65)\n",
    "queue.append(12)\n",
    "queue.append(34)\n",
    "queue.append(43)\n",
    "queue.append(1)\n",
    "queue.append(4)\n",
    "print(\"Queue\", list(queue))\n",
    "\n",
    "dequed = queue.popleft()\n",
    "print(\"This is the element that was dequeued: \", dequed)\n",
    "print(queue)\n",
    "dequed1 = queue.pop()\n",
    "print(\"This the dequeued element: \", dequed1)\n",
    "\n"
   ]
  },
  {
   "cell_type": "markdown",
   "metadata": {},
   "source": [
    "Stacks"
   ]
  },
  {
   "cell_type": "code",
   "execution_count": 20,
   "metadata": {},
   "outputs": [
    {
     "name": "stdout",
     "output_type": "stream",
     "text": [
      "[3, 5, 8, 3]\n",
      "This the top element:  3\n",
      "This is the poped element:  3\n"
     ]
    }
   ],
   "source": [
    "stack = []\n",
    "\n",
    "def push(value):\n",
    "    stack.append(value)\n",
    "    return stack\n",
    "\n",
    "def peek():\n",
    "    return print(\"This the top element: \",stack[-1])\n",
    "\n",
    "def pop():\n",
    "    poped = stack.pop(-1)\n",
    "    return print(\"This is the poped element: \", poped)\n",
    "\n",
    "push(3)\n",
    "push(5)\n",
    "push(8)\n",
    "push(3)\n",
    "\n",
    "print(stack)\n",
    "peek()\n",
    "pop()\n",
    "\n"
   ]
  }
 ],
 "metadata": {
  "kernelspec": {
   "display_name": "Python 3",
   "language": "python",
   "name": "python3"
  },
  "language_info": {
   "codemirror_mode": {
    "name": "ipython",
    "version": 3
   },
   "file_extension": ".py",
   "mimetype": "text/x-python",
   "name": "python",
   "nbconvert_exporter": "python",
   "pygments_lexer": "ipython3",
   "version": "3.13.2"
  }
 },
 "nbformat": 4,
 "nbformat_minor": 2
}
