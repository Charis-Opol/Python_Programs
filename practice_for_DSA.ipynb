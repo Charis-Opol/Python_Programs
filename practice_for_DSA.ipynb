{
 "cells": [
  {
   "cell_type": "markdown",
   "metadata": {},
   "source": [
    "Linear search"
   ]
  },
  {
   "cell_type": "code",
   "execution_count": 1,
   "metadata": {},
   "outputs": [
    {
     "name": "stdout",
     "output_type": "stream",
     "text": [
      "[2, 6, 4, 7, 9, 10, 23]\n",
      "7 was found at index 3\n"
     ]
    }
   ],
   "source": [
    "def linear_search(array, key):\n",
    "    n = len(array)\n",
    "    for i in range(n):\n",
    "        if array[i] == key:\n",
    "            return i\n",
    "    return -1\n",
    "\n",
    "array = [2, 6, 4, 7, 9, 10, 23]\n",
    "print(array)\n",
    "num = int(input(\"Enter a number to search for: \"))\n",
    "answer = linear_search(array, num)\n",
    "if answer != -1:\n",
    "    print(f\"{num} was found at index {answer}\")\n",
    "else:\n",
    "    print(\"Not found!\")"
   ]
  },
  {
   "cell_type": "markdown",
   "metadata": {},
   "source": [
    "Binary search"
   ]
  },
  {
   "cell_type": "code",
   "execution_count": 1,
   "metadata": {},
   "outputs": [
    {
     "name": "stdout",
     "output_type": "stream",
     "text": [
      "[2, 4, 7, 8, 12, 15, 24]\n"
     ]
    },
    {
     "name": "stdout",
     "output_type": "stream",
     "text": [
      "7 was found at index 2\n"
     ]
    }
   ],
   "source": [
    "def binary_search(array, key):\n",
    "    right = len(array) - 1\n",
    "    left = 0\n",
    "\n",
    "    while left <= right:\n",
    "        mid = (left + right)//2\n",
    "        \n",
    "        if array[mid] == key:\n",
    "            return mid\n",
    "        elif array[mid] < key:\n",
    "            left = mid + 1\n",
    "        elif array[mid] > key:\n",
    "            right = mid - 1\n",
    "    return -1\n",
    "\n",
    "arraylist = [2, 4, 7, 8, 12, 15, 24]\n",
    "print(arraylist)\n",
    "input = int(input(\"Enter the value you want to search for: \"))\n",
    "answer = binary_search(arraylist, input)\n",
    "if answer != -1:\n",
    "    print(f\"{input} was found at index {answer}\")\n",
    "else:\n",
    "    print(\"Not found\")  \n",
    "    "
   ]
  },
  {
   "cell_type": "markdown",
   "metadata": {},
   "source": [
    "Insertion sort"
   ]
  },
  {
   "cell_type": "code",
   "execution_count": 5,
   "metadata": {},
   "outputs": [
    {
     "name": "stdout",
     "output_type": "stream",
     "text": [
      "Sorted array:  [1, 6, 9, 15, 24, 92]\n"
     ]
    }
   ],
   "source": [
    "def insertion_sort(array):\n",
    "    n = len(array)\n",
    "    for i in range (1, n):\n",
    "        current_index = i\n",
    "        current_value = array.pop(i)\n",
    "        for j in range(i - 1, -1, -1):\n",
    "            if array[j] > current_value:\n",
    "                current_index = j\n",
    "        array.insert(current_index, current_value)\n",
    "    return array\n",
    "\n",
    "array = [15, 6, 92, 9, 24, 1]\n",
    "sorted_array = insertion_sort(array) \n",
    "print(\"Sorted array: \", sorted_array)"
   ]
  },
  {
   "cell_type": "markdown",
   "metadata": {},
   "source": [
    "Bubble sort"
   ]
  },
  {
   "cell_type": "code",
   "execution_count": 7,
   "metadata": {},
   "outputs": [
    {
     "name": "stdout",
     "output_type": "stream",
     "text": [
      "Sorted array:  [1, 6, 9, 15, 24, 92]\n"
     ]
    }
   ],
   "source": [
    "def bubble_sort(array):\n",
    "    n = len(array)\n",
    "    for i in range (n - 1):\n",
    "        for j in range (n - i - 1):\n",
    "            if array[j] > array[j + 1]:\n",
    "                array[j], array[j + 1] = array[j + 1], array[j]\n",
    "    return array\n",
    "\n",
    "array = [15, 6, 92, 9, 24, 1]\n",
    "sorted_array = bubble_sort(array) \n",
    "print(\"Sorted array: \", sorted_array)"
   ]
  },
  {
   "cell_type": "markdown",
   "metadata": {},
   "source": [
    "Selection Sort"
   ]
  },
  {
   "cell_type": "code",
   "execution_count": 8,
   "metadata": {},
   "outputs": [
    {
     "name": "stdout",
     "output_type": "stream",
     "text": [
      "Sorted array:  [1, 6, 9, 15, 24, 92]\n"
     ]
    }
   ],
   "source": [
    "def selection_sort(array):\n",
    "    n = len(array)\n",
    "    for i in range (n - 1):\n",
    "        min_index = i\n",
    "        for j in range (i + 1, n):\n",
    "            if array[j] < array[min_index]:\n",
    "                min_index = j\n",
    "        min_value = array.pop(min_index)\n",
    "        array.insert(i, min_value)\n",
    "    return array\n",
    "\n",
    "array = [15, 6, 92, 9, 24, 1]\n",
    "sorted_array = selection_sort(array) \n",
    "print(\"Sorted array: \", sorted_array)\n"
   ]
  },
  {
   "cell_type": "markdown",
   "metadata": {},
   "source": [
    "Quick sort"
   ]
  },
  {
   "cell_type": "code",
   "execution_count": 10,
   "metadata": {},
   "outputs": [
    {
     "name": "stdout",
     "output_type": "stream",
     "text": [
      "Sorted array:  [1, [15, 6, 92, 9, 24, 1]]\n"
     ]
    }
   ],
   "source": [
    "def quick_sort(array):\n",
    "    if len(array) <= 1:\n",
    "        return array\n",
    "     \n",
    "    pivot = array[-1]\n",
    "    left = []\n",
    "    right = []\n",
    "\n",
    "    for i in range (len(array) - 1):\n",
    "        if array[i] < pivot:\n",
    "            left.append(array[i])\n",
    "        elif array[i] > pivot:\n",
    "            right.append(array)\n",
    "    return quick_sort(left) + [pivot] + quick_sort(right)\n",
    "        \n",
    "array = [15, 6, 92, 9, 24, 1]\n",
    "sorted_array = quick_sort(array) \n",
    "print(\"Sorted array: \", sorted_array)"
   ]
  },
  {
   "cell_type": "markdown",
   "metadata": {},
   "source": [
    "Merge Sort"
   ]
  },
  {
   "cell_type": "code",
   "execution_count": 13,
   "metadata": {},
   "outputs": [
    {
     "name": "stdout",
     "output_type": "stream",
     "text": [
      "Sorted array:  [1, 6, 9, 15, 24, 92]\n"
     ]
    }
   ],
   "source": [
    "def merge_sort(array):\n",
    "    if len(array) <= 1:\n",
    "        return array\n",
    "    \n",
    "    mid = len(array) // 2\n",
    "    left = array[:mid]\n",
    "    right = array[mid:]\n",
    "\n",
    "    sorted_left = merge_sort(left)\n",
    "    sorted_right = merge_sort(right)\n",
    "\n",
    "    return merge(sorted_left, sorted_right)\n",
    "\n",
    "def merge(left, right):\n",
    "    i = 0\n",
    "    j = 0\n",
    "    merged_array = []\n",
    "\n",
    "    while i < len(left) and j < len(right):\n",
    "        if left[i] < right[j]:\n",
    "            merged_array.append(left[i])\n",
    "            i = i + 1\n",
    "        elif right[j] < left[i]:\n",
    "            merged_array.append(right[j])\n",
    "            j = j + 1\n",
    "        \n",
    "    merged_array.extend(left[i:])\n",
    "    merged_array.extend(right[j:])\n",
    "    return merged_array\n",
    "\n",
    "array = [15, 6, 92, 9, 24, 1]\n",
    "sorted_array = merge_sort(array) \n",
    "print(\"Sorted array: \", sorted_array)\n"
   ]
  }
 ],
 "metadata": {
  "kernelspec": {
   "display_name": "Python 3",
   "language": "python",
   "name": "python3"
  },
  "language_info": {
   "codemirror_mode": {
    "name": "ipython",
    "version": 3
   },
   "file_extension": ".py",
   "mimetype": "text/x-python",
   "name": "python",
   "nbconvert_exporter": "python",
   "pygments_lexer": "ipython3",
   "version": "3.13.2"
  }
 },
 "nbformat": 4,
 "nbformat_minor": 2
}
