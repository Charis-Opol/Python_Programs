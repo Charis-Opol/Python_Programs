{
 "cells": [
  {
   "cell_type": "markdown",
   "metadata": {},
   "source": [
    "Intializing the linked list using a dictionary and a tuple\n",
    "The keys in the dictonatries will be the node and the content in the tuple will be the data and the pointer\n",
    "The node contains data and a pointer to next node.\n",
    "1->2->3->None"
   ]
  },
  {
   "cell_type": "code",
   "execution_count": 6,
   "metadata": {},
   "outputs": [
    {
     "name": "stdout",
     "output_type": "stream",
     "text": [
      "12 -> 22 -> 13 -> None\n",
      "12 -> 11 -> 13 -> None\n",
      "12 -> 11 -> 12 -> 13 -> None\n",
      "12 -> 11 -> 13 -> None\n"
     ]
    }
   ],
   "source": [
    "linkedlist = {0:(12,1), 1:(22,2), 2:(13,-1)} # Implemtation of the dictionary\n",
    "\n",
    "def display():\n",
    "    index = 0\n",
    "    while index != -1:\n",
    "        value, next_index = linkedlist[index]\n",
    "        print(value, end=\" -> \")\n",
    "        index = next_index\n",
    "    print(\"None\")\n",
    "\n",
    "display()\n",
    "\n",
    "#Adding elements to a linkedlist\n",
    "linkedlist[1] = (11,2)\n",
    "display()\n",
    "linkedlist[2] = (12,3)\n",
    "linkedlist[3] = (13,-1)\n",
    "display()\n",
    "\n",
    "# Removing a value to a linkedlist\n",
    "del linkedlist[2]\n",
    "linkedlist[1] = (11,3)\n",
    "display()"
   ]
  },
  {
   "cell_type": "markdown",
   "metadata": {},
   "source": [
    "Implementing Queues\n",
    "For queues we continue adding elements from the back and removng from the front\n",
    "We use the deque library from the "
   ]
  },
  {
   "cell_type": "code",
   "execution_count": 9,
   "metadata": {},
   "outputs": [
    {
     "name": "stdout",
     "output_type": "stream",
     "text": [
      "Queue is [1, 2, 3, 4]\n",
      "The removed element: 1\n",
      "Front most element: 2\n"
     ]
    }
   ],
   "source": [
    "from collections import deque\n",
    "queue = deque()\n",
    "\n",
    "queue.append(1)\n",
    "queue.append(2)\n",
    "queue.append(3)\n",
    "queue.append(4)\n",
    "\n",
    "print(\"Queue is\", list(queue))\n",
    "\n",
    "# Inputing data\n",
    "\n",
    "if queue: #If in queue\n",
    "    removed_value = queue.popleft()\n",
    "    print(\"The removed element:\", removed_value)\n",
    "\n",
    "# How to access particular data\n",
    "if queue:\n",
    "    print(\"Front most element:\", queue[0])"
   ]
  },
  {
   "cell_type": "markdown",
   "metadata": {},
   "source": [
    "Stacks go with the principle of last in first out"
   ]
  },
  {
   "cell_type": "code",
   "execution_count": 1,
   "metadata": {},
   "outputs": [
    {
     "name": "stdout",
     "output_type": "stream",
     "text": [
      "Stack elements: [2, 3, 4, 8]\n",
      "The removed element: 8\n",
      "The top most element is  4\n"
     ]
    }
   ],
   "source": [
    "stack = []\n",
    "\n",
    "stack.append(2)\n",
    "stack.append(3)\n",
    "stack.append(4)\n",
    "stack.append(8)\n",
    "\n",
    "print(\"Stack elements:\", stack)\n",
    "\n",
    "if stack:\n",
    "    removed_element = stack.pop()\n",
    "    print(\"The removed element:\", removed_element)\n",
    "\n",
    "if stack:\n",
    "    print(\"The top most element is \", stack[-1])"
   ]
  },
  {
   "cell_type": "code",
   "execution_count": 3,
   "metadata": {},
   "outputs": [
    {
     "name": "stdout",
     "output_type": "stream",
     "text": [
      "10\n",
      "[10, 20, 30, 40, 50, 60, 70]\n",
      "[10, 20, 30, 40, 50, 60, 70, 60]\n",
      "[10, 20, 25, 30, 40, 50, 60, 70, 60]\n",
      "[10, 20, 30, 40, 50, 60, 70, 60]\n",
      "[10, 20, 30, 40, 50, 60, 60]\n",
      "It is there\n",
      "10\n",
      "20\n",
      "30\n",
      "40\n",
      "50\n",
      "60\n",
      "60\n"
     ]
    }
   ],
   "source": [
    "array = [10,20,30,40,50,60,70]\n",
    "\n",
    "print(array[0])\n",
    "print(array)\n",
    "\n",
    "array.append(60)\n",
    "print(array)\n",
    "\n",
    "array.insert(2,25)\n",
    "print(array)\n",
    "\n",
    "array.remove(25)\n",
    "print(array)\n",
    "\n",
    "del array[6]\n",
    "print(array)\n",
    "\n",
    "if 40 in array:\n",
    "    print(\"It is there\")\n",
    "else:\n",
    "    print(\"It is not there\")\n",
    "\n",
    "for x in array:\n",
    "    print(x)\n",
    "\n"
   ]
  },
  {
   "cell_type": "code",
   "execution_count": 5,
   "metadata": {},
   "outputs": [
    {
     "name": "stdout",
     "output_type": "stream",
     "text": [
      "[[1, 2, 3], [4, 5, 6], [7, 8, 9]]\n",
      "First element: 1\n",
      "Last element: 9\n",
      "Middle element: 5\n"
     ]
    }
   ],
   "source": [
    "#2D arrays\n",
    "array1 = [\n",
    "    [1,2,3],\n",
    "    [4,5,6],\n",
    "    [7,8,9]\n",
    "]\n",
    "\n",
    "print(array1)\n",
    "print(\"First element:\", array1[0][0])\n",
    "print(\"Last element:\", array1[-1][-1])\n",
    "print(\"Middle element:\", array1[1][1])"
   ]
  }
 ],
 "metadata": {
  "kernelspec": {
   "display_name": "Python 3",
   "language": "python",
   "name": "python3"
  },
  "language_info": {
   "codemirror_mode": {
    "name": "ipython",
    "version": 3
   },
   "file_extension": ".py",
   "mimetype": "text/x-python",
   "name": "python",
   "nbconvert_exporter": "python",
   "pygments_lexer": "ipython3",
   "version": "3.13.0"
  }
 },
 "nbformat": 4,
 "nbformat_minor": 2
}
