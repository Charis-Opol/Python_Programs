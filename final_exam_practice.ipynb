{
 "cells": [
  {
   "cell_type": "code",
   "execution_count": 1,
   "id": "7b071994",
   "metadata": {},
   "outputs": [
    {
     "name": "stdout",
     "output_type": "stream",
     "text": [
      "Found at 4\n"
     ]
    }
   ],
   "source": [
    "def binary_search(array, target):\n",
    "    left = 0\n",
    "    right = len(array)\n",
    "\n",
    "    while left <= right:\n",
    "        mid = (right + left) // 2\n",
    "\n",
    "        if array[mid] == target:\n",
    "            return mid\n",
    "        elif array[mid] > target:\n",
    "            right = mid - 1\n",
    "        else:\n",
    "            left = mid + 1\n",
    "    return -1\n",
    "\n",
    "array = [2, 4, 6, 8, 9, 10]\n",
    "target = 9\n",
    "result = binary_search(array, target)\n",
    "\n",
    "if result != -1:\n",
    "    print(f\"Found at {result}\")\n",
    "else:\n",
    "    print(\"Not found\")\n"
   ]
  },
  {
   "cell_type": "code",
   "execution_count": 2,
   "id": "c192bdf3",
   "metadata": {},
   "outputs": [
    {
     "name": "stdout",
     "output_type": "stream",
     "text": [
      "[1, 2, 3, 5, 6, 7, 14, 93]\n"
     ]
    }
   ],
   "source": [
    "def mergesort(array):\n",
    "    n = len(array)\n",
    "    if n <= 1:\n",
    "        return array\n",
    "    \n",
    "    mid = n // 2\n",
    "    left = mergesort(array[:mid])\n",
    "    right = mergesort(array[mid:])\n",
    "\n",
    "    return merge(left, right)\n",
    "\n",
    "def merge(left, right):\n",
    "    result = []\n",
    "    i = j = 0\n",
    "\n",
    "    while i < len(left) and j < len(right):\n",
    "        if left[i] < right[j]:\n",
    "            result.append(left[i])\n",
    "            i += 1\n",
    "        else:\n",
    "            result.append(right[j])\n",
    "            j += 1\n",
    "    \n",
    "    result.extend(left[i:])\n",
    "    result.extend(right[j:])\n",
    "    \n",
    "    return result\n",
    "\n",
    "array = [3, 5, 6, 14, 93, 2, 1, 7]\n",
    "result = mergesort(array)\n",
    "print(result)\n",
    "\n",
    "\n"
   ]
  },
  {
   "cell_type": "code",
   "execution_count": 3,
   "id": "afe502e0",
   "metadata": {},
   "outputs": [
    {
     "name": "stdout",
     "output_type": "stream",
     "text": [
      "[1, 2, 3, 5, 6, 7, 14, 93]\n"
     ]
    }
   ],
   "source": [
    "def quicksort(array):\n",
    "    if len(array) <= 1:\n",
    "        return array\n",
    "    \n",
    "    pivot = array[-1]\n",
    "    right = []\n",
    "    left = []\n",
    "\n",
    "    for i in range (len(array) - 1):\n",
    "        if array[i] <= pivot:\n",
    "            left.append(array[i])\n",
    "        else:\n",
    "            right.append(array[i])\n",
    "\n",
    "    return quicksort(left) + [pivot] + quicksort(right)\n",
    "\n",
    "array = [3, 5, 6, 14, 93, 2, 1, 7]\n",
    "result = quicksort(array)\n",
    "print(result)\n"
   ]
  },
  {
   "cell_type": "code",
   "execution_count": 25,
   "id": "436018bc",
   "metadata": {},
   "outputs": [
    {
     "name": "stdout",
     "output_type": "stream",
     "text": [
      "[1, 2, 3, 5, 6, 7, 14, 93]\n"
     ]
    }
   ],
   "source": [
    "def bubblesort(array):\n",
    "    n = len(array)\n",
    "\n",
    "    for i in range(n - 1):\n",
    "        for j in range(n - i - 1):\n",
    "            if array[j] > array[j + 1]:\n",
    "                array[j], array[j + 1] = array[j + 1], array[j]\n",
    "\n",
    "    return array\n",
    "\n",
    "array = [3, 5, 6, 14, 93, 2, 1, 7]\n",
    "result = bubblesort(array)\n",
    "print(result)"
   ]
  },
  {
   "cell_type": "code",
   "execution_count": 27,
   "id": "a21c7200",
   "metadata": {},
   "outputs": [
    {
     "name": "stdout",
     "output_type": "stream",
     "text": [
      "[1, 2, 3, 5, 6, 7, 14, 93]\n"
     ]
    }
   ],
   "source": [
    "def insertion_sort(array):\n",
    "    n = len(array)\n",
    "\n",
    "    for i in range(1, n):\n",
    "        insert_index = i\n",
    "        value = array.pop(i)\n",
    "        for j in range(i - 1, -1, -1):\n",
    "            if array[j] > value:\n",
    "                insert_index = j\n",
    "        array.insert(insert_index, value)\n",
    "    return array\n",
    "\n",
    "array = [3, 5, 6, 14, 93, 2, 1, 7]\n",
    "result = insertion_sort(array)\n",
    "print(result)"
   ]
  },
  {
   "cell_type": "code",
   "execution_count": null,
   "id": "881f08cc",
   "metadata": {},
   "outputs": [
    {
     "name": "stdout",
     "output_type": "stream",
     "text": [
      "[3, 6, 65, 12, 34, 43, 1, 4]\n",
      "3\n"
     ]
    }
   ],
   "source": [
    "from collections import deque\n",
    "\n",
    "queue = deque()\n",
    "\n",
    "queue.append(3)\n",
    "queue.append(6)\n",
    "queue.append(65)\n",
    "queue.append(12)\n",
    "queue.append(34)\n",
    "queue.append(43)\n",
    "queue.append(1)\n",
    "queue.append(4)\n",
    "print(list(queue))\n",
    "\n",
    "pop = queue.popleft()\n",
    "print(pop)\n",
    "\n"
   ]
  },
  {
   "cell_type": "code",
   "execution_count": 23,
   "id": "c810d933",
   "metadata": {},
   "outputs": [
    {
     "name": "stdout",
     "output_type": "stream",
     "text": [
      "[1, 2, 3, 5, 6, 7, 14, 93]\n"
     ]
    }
   ],
   "source": [
    "def selectionsort(array):\n",
    "    n = len(array)\n",
    "    \n",
    "    for i in range (n - 1):\n",
    "        min_index = i\n",
    "        for j in range(i + 1, n):\n",
    "            if array[j] < array[min_index]:\n",
    "                min_index = j\n",
    "        min_value = array.pop(min_index)\n",
    "        array.insert(i ,min_value)\n",
    "    return array\n",
    "\n",
    "array = [3, 5, 6, 14, 93, 2, 1, 7]\n",
    "result = selectionsort(array)\n",
    "print(result)"
   ]
  }
 ],
 "metadata": {
  "kernelspec": {
   "display_name": "Python 3",
   "language": "python",
   "name": "python3"
  },
  "language_info": {
   "codemirror_mode": {
    "name": "ipython",
    "version": 3
   },
   "file_extension": ".py",
   "mimetype": "text/x-python",
   "name": "python",
   "nbconvert_exporter": "python",
   "pygments_lexer": "ipython3",
   "version": "3.13.2"
  }
 },
 "nbformat": 4,
 "nbformat_minor": 5
}
